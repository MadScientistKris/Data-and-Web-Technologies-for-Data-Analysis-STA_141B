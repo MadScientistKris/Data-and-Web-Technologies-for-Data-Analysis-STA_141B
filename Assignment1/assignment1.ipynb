{
 "cells": [
  {
   "cell_type": "markdown",
   "metadata": {},
   "source": [
    "## Part 1: The Doomsday Algorithm\n",
    "\n",
    "The Doomsday algorithm, devised by mathematician J. H. Conway, computes the day of the week any given date fell on. The algorithm is designed to be simple enough to memorize and use for mental calculation.\n",
    "\n",
    "__Example.__ With the algorithm, we can compute that July 4, 1776 (the day the United States declared independence from Great Britain) was a Thursday.\n",
    "\n",
    "The algorithm is based on the fact that for any year, several dates always fall on the same day of the week, called the <em style=\"color:#F00\">doomsday</em> for the year. These dates include 4/4, 6/6, 8/8, 10/10, and 12/12.\n",
    "\n",
    "__Example.__ The doomsday for 2016 is Monday, so in 2016 the dates above all fell on Mondays. The doomsday for 2017 is Tuesday, so in 2017 the dates above will all fall on Tuesdays.\n",
    "\n",
    "The doomsday algorithm has three major steps:\n",
    "\n",
    "1. Compute the anchor day for the target century.\n",
    "2. Compute the doomsday for the target year based on the anchor day.\n",
    "3. Determine the day of week for the target date by counting the number of days to the nearest doomsday.\n",
    "\n",
    "Each step is explained in detail below."
   ]
  },
  {
   "cell_type": "markdown",
   "metadata": {},
   "source": [
    "### The Anchor Day\n",
    "\n",
    "The doomsday for the first year in a century is called the <em style=\"color:#F00\">anchor day</em> for that century. The anchor day is needed to compute the doomsday for any other year in that century. The anchor day for a century $c$ can be computed with the formula:\n",
    "$$\n",
    "a = \\bigl( 5 (c \\bmod 4) + 2 \\bigr) \\bmod 7\n",
    "$$\n",
    "The result $a$ corresponds to a day of the week, starting with $0$ for Sunday and ending with $6$ for Saturday.\n",
    "\n",
    "__Note.__ The modulo operation $(x \\bmod y)$ finds the remainder after dividing $x$ by $y$. For instance, $12 \\bmod 3 = 0$ since the remainder after dividing $12$ by $3$ is $0$. Similarly, $11 \\bmod 7 = 4$, since the remainder after dividing $11$ by $7$ is $4$.\n",
    "\n",
    "__Example.__ Suppose the target year is 1954, so the century is $c = 19$. Plugging this into the formula gives\n",
    "$$a = \\bigl( 5 (19 \\bmod 4) + 2 \\bigr) \\bmod 7 = \\bigl( 5(3) + 2 \\bigr) \\bmod 7 = 3.$$\n",
    "In other words, the anchor day for 1900-1999 is Wednesday, which is also the doomsday for 1900.\n",
    "\n",
    "__Exercise 1.1.__ Write a function that accepts a year as input and computes the anchor day for that year's century. The modulo operator `%` and functions in the `math` module may be useful. Document your function with a docstring and test your function for a few different years.  Do this in a new cell below this one."
   ]
  },
  {
   "cell_type": "code",
   "execution_count": 2,
   "metadata": {
    "collapsed": false
   },
   "outputs": [
    {
     "name": "stdout",
     "output_type": "stream",
     "text": [
      "(3, 'Wednesday')\n",
      "(3, 'Wednesday')\n",
      "(5, 'Friday')\n"
     ]
    }
   ],
   "source": [
    "def get_anchorday(year):\n",
    "    '''This functions is used to calculate the anchor day of a century where the given year belongs to.\n",
    "\n",
    "    Input:\n",
    "        year: an integer, ie(320,1864,etc.)\n",
    "\n",
    "    Output:\n",
    "        a tuple contains the value of a and anchor day, ie(0, Sunday)\n",
    "    '''\n",
    "    year_string = str(year)\n",
    "    c = int(year_string[:-2])    \n",
    "    a =(5 * (c % 4) + 2) % 7\n",
    "    day_of_week = {0:'Sunday', 1:'Monday', 2:'Tuesday', 3:'Wednesday', 4:'Thursday', 5:'Friday', 6:'Saturday'}\n",
    "    return (a, day_of_week[a])\n",
    "\n",
    "print get_anchorday(320)\n",
    "print get_anchorday(1987)\n",
    "print get_anchorday(1830)"
   ]
  },
  {
   "cell_type": "markdown",
   "metadata": {},
   "source": [
    "### The Doomsday\n",
    "\n",
    "Once the anchor day is known, let $y$ be the last two digits of the target year. Then the doomsday for the target year can be computed with the formula:\n",
    "$$d = \\left(y + \\left\\lfloor\\frac{y}{4}\\right\\rfloor + a\\right) \\bmod 7$$\n",
    "The result $d$ corresponds to a day of the week.\n",
    "\n",
    "__Note.__ The floor operation $\\lfloor x \\rfloor$ rounds $x$ down to the nearest integer. For instance, $\\lfloor 3.1 \\rfloor = 3$ and $\\lfloor 3.8 \\rfloor = 3$.\n",
    "\n",
    "__Example.__ Again suppose the target year is 1954. Then the anchor day is $a = 3$, and $y = 54$, so the formula gives\n",
    "$$\n",
    "d = \\left(54 + \\left\\lfloor\\frac{54}{4}\\right\\rfloor + 3\\right) \\bmod 7 = (54 + 13 + 3) \\bmod 7 = 0.\n",
    "$$\n",
    "Thus the doomsday for 1954 is Sunday.\n",
    "\n",
    "__Exercise 1.2.__ Write a function that accepts a year as input and computes the doomsday for that year. Your function may need to call the function you wrote in exercise 1.1. Make sure to document and test your function."
   ]
  },
  {
   "cell_type": "code",
   "execution_count": 3,
   "metadata": {
    "collapsed": false
   },
   "outputs": [
    {
     "name": "stdout",
     "output_type": "stream",
     "text": [
      "(0, 'Sunday')\n",
      "(5, 'Friday')\n"
     ]
    }
   ],
   "source": [
    "def get_doomsday(year):\n",
    "    '''This functions is used to calculate the doomsday of a given year.\n",
    "\n",
    "    Input:\n",
    "        year: an integer, ie(320,1864,etc.)\n",
    "\n",
    "    Output:\n",
    "        a tuple contains the value of 'd' and doomsday, ie(0, Sunday)\n",
    "    '''    \n",
    "    a = get_anchorday(320)[0]    # calculate the anchor day\n",
    "    year_string = str(year)\n",
    "    y = int(year_string[-2:])    # last two digits\n",
    "    d = int((y + round(y/4) + a) % 7)\n",
    "    day_of_week = {0:'Sunday', 1:'Monday', 2:'Tuesday', 3:'Wednesday', 4:'Thursday', 5:'Friday', 6:'Saturday'}\n",
    "    return (d, day_of_week[d])\n",
    "\n",
    "print get_doomsday(1954)\n",
    "print get_doomsday(1824)"
   ]
  },
  {
   "cell_type": "markdown",
   "metadata": {},
   "source": [
    "### The Day of Week\n",
    "\n",
    "The final step in the Doomsday algorithm is to count the number of days between the target date and a nearby doomsday, modulo 7. This gives the day of the week.\n",
    "\n",
    "Every month has at least one doomsday:\n",
    "* (regular years) 1/10, 2/28\n",
    "* (leap years) 1/11, 2/29\n",
    "* 3/21, 4/4, 5/9, 6/6, 7/11, 8/8, 9/5, 10/10, 11/7, 12/12\n",
    "\n",
    "__Example.__ Suppose we want to find the day of the week for 7/21/1954. The doomsday for 1954 is Sunday, and a nearby doomsday is 7/11. There are 10 days in July between 7/11 and 7/21. Since $10 \\bmod 7 = 3$, the date 7/21/1954 falls 3 days after a Sunday, on a Wednesday.\n",
    "\n",
    "__Exercise 1.3.__ Write a function to determine the day of the week for a given day, month, and year. Be careful of leap years! Your function should return a string such as \"Thursday\" rather than a number. As usual, document and test your code."
   ]
  },
  {
   "cell_type": "code",
   "execution_count": 4,
   "metadata": {
    "collapsed": false
   },
   "outputs": [
    {
     "name": "stdout",
     "output_type": "stream",
     "text": [
      "Saturday\n",
      "Sunday\n",
      "Wednesday\n"
     ]
    }
   ],
   "source": [
    "def get_day_of_week(year, month, day):\n",
    "    '''This functions is used to calculate the day of a week for a given day.\n",
    "\n",
    "    Input:\n",
    "        year: an integer, ie(320,1864,etc.)\n",
    "        month: an integer, ie(1,2,3...)\n",
    "        day: an integer, ie(12,24...)\n",
    "    Output:\n",
    "        today: a string of the day of week for today. ie('Sunday')\n",
    "    '''  \n",
    "    # determine whether the given year is a leap year\n",
    "    if (str(year)[-2:] == '00' and year % 400 == 0) or (str(year)[-2:] != '00' and year % 4 == 0):\n",
    "        leap = 1\n",
    "    else:\n",
    "        leap = 0\n",
    "    # two tuples of the doomsdays.\n",
    "    doom_list_leap = (11, 29, 21, 4, 9, 6, 11, 8, 5, 10, 7, 12)\n",
    "    doom_list_noleap = (10, 28, 21, 4, 9, 6, 11, 8, 5, 10, 7, 12)\n",
    "    doomsday = get_doomsday(year)[0]\n",
    "    # Find the the target day which is the doomsday of that month\n",
    "    if leap == 1:\n",
    "        target_day = doom_list_leap[month-1]\n",
    "    else:\n",
    "        target_day = doom_list_noleap[month-1]\n",
    "    \n",
    "    diff = day - target_day\n",
    "    \n",
    "    if diff >= 0:\n",
    "        remain_in_week = diff % 7 # if diff >= 0, remain_in_week >0. Otherwise, remain_in week < 0\n",
    "    else:\n",
    "        remain_in_week = -(abs(diff) % 7)\n",
    "    \n",
    "    today_index = (doomsday + remain_in_week) % 7 # index of today\n",
    "    day_of_week = {0:'Sunday', 1:'Monday', 2:'Tuesday', 3:'Wednesday', 4:'Thursday', 5:'Friday', 6:'Saturday'}\n",
    "    today = day_of_week[today_index]\n",
    "    \n",
    "    return today\n",
    "\n",
    "print get_day_of_week(1954, 7, 10)\n",
    "print get_day_of_week(1954, 7, 11)\n",
    "print get_day_of_week(1954, 7, 21)"
   ]
  },
  {
   "cell_type": "markdown",
   "metadata": {},
   "source": [
    "__Exercise 1.4.__ How many times did Friday the 13th occur in the years 1900-1999? Does this number seem to be similar to other centuries?"
   ]
  },
  {
   "cell_type": "code",
   "execution_count": 10,
   "metadata": {
    "collapsed": false
   },
   "outputs": [
    {
     "name": "stdout",
     "output_type": "stream",
     "text": [
      "172\n"
     ]
    }
   ],
   "source": [
    "def get_13_century(century_start):\n",
    "    ''' Calculate the times that Friday the 13th occur in a century\n",
    "        \n",
    "    Arguments:\n",
    "        century_start(int): The beginning year of a century. ie(1900 for 1900 - 1999; 1800 for 18th century)\n",
    "    \n",
    "    Returns:\n",
    "        print the count on the screen\n",
    "    '''\n",
    "    count = 0\n",
    "    \n",
    "    for year in range(century_start,century_start + 100):\n",
    "        for month in range(1,13):\n",
    "            if get_day_of_week(year, month, 13) == 'Friday':\n",
    "                count += 1\n",
    "\n",
    "    print count\n",
    "\n",
    "get_13_century(1900)"
   ]
  },
  {
   "cell_type": "markdown",
   "metadata": {},
   "source": [
    "<h3>There are 172 Friday the 13th occur in the years 1900-1999</h3>"
   ]
  },
  {
   "cell_type": "code",
   "execution_count": 11,
   "metadata": {
    "collapsed": false
   },
   "outputs": [
    {
     "name": "stdout",
     "output_type": "stream",
     "text": [
      "172\n",
      "172\n",
      "173\n",
      "173\n"
     ]
    }
   ],
   "source": [
    "get_13_century(1900)\n",
    "get_13_century(1800)\n",
    "get_13_century(1600)\n",
    "get_13_century(1200)"
   ]
  },
  {
   "cell_type": "markdown",
   "metadata": {},
   "source": [
    "<h3>Friday the 13th occurs 173 times in all leap years and 172 time in all regular years</h3>"
   ]
  },
  {
   "cell_type": "markdown",
   "metadata": {},
   "source": [
    "__Exercise 1.5.__ How many times did Friday the 13th occur between the year 2000 and today?"
   ]
  },
  {
   "cell_type": "code",
   "execution_count": 27,
   "metadata": {
    "collapsed": false
   },
   "outputs": [
    {
     "name": "stdout",
     "output_type": "stream",
     "text": [
      "30\n"
     ]
    }
   ],
   "source": [
    "count = 0\n",
    "# all 13th occuring between 2000 and 2016\n",
    "for year in range(2000,2017):\n",
    "    for month in range(1,13):\n",
    "        if get_day_of_week(year, month, 13) == 'Friday':\n",
    "            count += 1\n",
    "# By now, only 01/13/2017 occurs in 2017.\n",
    "if get_day_of_week(2017, 1, 13) == 'Friday':\n",
    "            count += 1\n",
    "print count"
   ]
  },
  {
   "cell_type": "markdown",
   "metadata": {},
   "source": [
    "## Part 2: 1978 Birthdays\n",
    "\n",
    "__Exercise 2.1.__ The file `birthdays.txt` contains the number of births in the United States for each day in 1978. Inspect the file to determine the format. Note that columns are separated by the tab character, which can be entered in Python as `\\t`. Write a function that uses iterators and list comprehensions with the string methods `split()` and `strip()` to  convert each line of data to the list format\n",
    "\n",
    "```Python\n",
    "[month, day, year, count]\n",
    "```\n",
    "The elements of this list should be integers, not strings. The function `read_birthdays` provided below will help you load the file."
   ]
  },
  {
   "cell_type": "code",
   "execution_count": 97,
   "metadata": {
    "collapsed": false
   },
   "outputs": [
    {
     "name": "stdout",
     "output_type": "stream",
     "text": [
      "365\n"
     ]
    },
    {
     "data": {
      "text/plain": [
       "[[1, 1, 1978, 7701],\n",
       " [1, 2, 1978, 7527],\n",
       " [1, 3, 1978, 8825],\n",
       " [1, 4, 1978, 8859],\n",
       " [1, 5, 1978, 9043],\n",
       " [1, 6, 1978, 9208]]"
      ]
     },
     "execution_count": 97,
     "metadata": {},
     "output_type": "execute_result"
    }
   ],
   "source": [
    "def read_birthdays(file_path):\n",
    "    \"\"\"Read the contents of the birthdays file into a string.\n",
    "    \n",
    "    Arguments:\n",
    "        file_path (string): The path to the birthdays file.\n",
    "        \n",
    "    Returns:\n",
    "        string: The contents of the birthdays file.\n",
    "    \"\"\"\n",
    "    with open(file_path) as file:\n",
    "        return file.read()\n",
    "\n",
    "\n",
    "def birthday_split(file_path):\n",
    "    '''This is used to load the txt file and split the birthday into single element\n",
    "    \n",
    "    Arguments:\n",
    "        file_path (string): The path to the birthdays file.\n",
    "    \n",
    "    Returns:\n",
    "        birthday_final_integer(list): A list of lists in which every small list looks like [month, day, year, count]\n",
    "    '''\n",
    "    birthday = read_birthdays(file_path)\n",
    "    birthday = birthday.strip()            # get rid of the spaces in front of and behind the main text\n",
    "    birthday = birthday.split('\\n')[6:]    # split the birthdays by '\\n' and remove the title lines\n",
    "    birthday =[i.split('/') for i in birthday]  # First split by '/'\n",
    "    \n",
    "    birthday_clean = []\n",
    "    \n",
    "    for i in birthday:\n",
    "        birthday_clean.append( [j.split('\\t') for j in i] )    # Second split by '\\t'\n",
    "    \n",
    "    birthday_final = map(lambda x: sum(x, []), birthday_clean) # merge the small lists within a big list\n",
    "    \n",
    "    for i in birthday_final:    # change the two digits year into four digits style.\n",
    "        i[2] = '19' + i[2]\n",
    "    \n",
    "    birthday_final_integer = [map(int, i) for i in birthday_final] # change the strings into integer.\n",
    "    \n",
    "    return birthday_final_integer       \n",
    "\n",
    "# For test        \n",
    "file = './birthdays.txt'\n",
    "birthday = birthday_split(file)\n",
    "print len(birthday)\n",
    "birthday[:6]"
   ]
  },
  {
   "cell_type": "markdown",
   "metadata": {},
   "source": [
    "__Exercise 2.2.__ Which month had the most births in 1978? Which day of the week had the most births? Which day of the week had the fewest? What conclusions can you draw? You may find the `Counter` class in the `collections` module useful."
   ]
  },
  {
   "cell_type": "code",
   "execution_count": 101,
   "metadata": {
    "collapsed": false
   },
   "outputs": [
    {
     "name": "stdout",
     "output_type": "stream",
     "text": [
      "8\n"
     ]
    }
   ],
   "source": [
    "def month_most_year(birthdays):\n",
    "    '''Calculate the month had the most births in 1978 \n",
    "     \n",
    "     Arguments: \n",
    "         birthdays(list): We got it from function birthday_split\n",
    "     \n",
    "     Returns:\n",
    "         integer: the month had the most births in 1978\n",
    "     '''\n",
    "    month_count = [0] * 12\n",
    "    \n",
    "    for i in birthdays:\n",
    "        month_count[i[0] - 1] += i[3]\n",
    "    \n",
    "    return month_count.index(max(month_count)) + 1\n",
    "\n",
    "print month_most_year(birthday)"
   ]
  },
  {
   "cell_type": "code",
   "execution_count": 123,
   "metadata": {
    "collapsed": false,
    "scrolled": true
   },
   "outputs": [
    {
     "name": "stdout",
     "output_type": "stream",
     "text": [
      "Tuesday\n",
      "Sunday\n"
     ]
    }
   ],
   "source": [
    "def day_of_week_most_year(birthdays, big_or_small):\n",
    "    '''Calculate the day of a week had the most births in 1978 \n",
    "     \n",
    "     Arguments: \n",
    "         birthdays(list): We got it from function birthday_split\n",
    "         big_or_small(string): indicate the output should by largest or smallest. ie(most or fewest)\n",
    "     Returns:\n",
    "         string: the day of a week had the most births in 1978\n",
    "     '''\n",
    "    day_count = {'Sunday':0, 'Monday':0 , 'Tuesday':0, 'Wednesday':0, 'Thursday':0, 'Friday':0, 'Saturday':0}\n",
    "    \n",
    "    for i in birthdays:\n",
    "        day = get_day_of_week(i[2], i[0], i[1])\n",
    "        day_count[day] += i[3]\n",
    "    \n",
    "    if big_or_small == 'most':\n",
    "        return max(day_count, key = lambda i: day_count[i])\n",
    "    else:\n",
    "        return min(day_count, key = lambda i: day_count[i])\n",
    "\n",
    "print day_of_week_most_year(birthday, 'most')\n",
    "print day_of_week_most_year(birthday, 'fewest')"
   ]
  },
  {
   "cell_type": "markdown",
   "metadata": {},
   "source": [
    "<h3>August had most births in 1978, Tuesday had the most births while Sunday had the fewest in 1978</h3>\n",
    "<h3>Births always occured in summer and weekdays instead of weekends</h3>"
   ]
  },
  {
   "cell_type": "markdown",
   "metadata": {},
   "source": [
    "__Exercise 2.3.__ What would be an effective way to present the information in exercise 2.2? You don't need to write any code for this exercise, just discuss what you would do."
   ]
  },
  {
   "cell_type": "markdown",
   "metadata": {},
   "source": [
    "<h3>I think pie chart and hisogram are the best ways to present the distribution of births in 1978 over month and day of week</h3>"
   ]
  }
 ],
 "metadata": {
  "anaconda-cloud": {},
  "kernelspec": {
   "display_name": "Python 2",
   "language": "python",
   "name": "python2"
  },
  "language_info": {
   "codemirror_mode": {
    "name": "ipython",
    "version": 2
   },
   "file_extension": ".py",
   "mimetype": "text/x-python",
   "name": "python",
   "nbconvert_exporter": "python",
   "pygments_lexer": "ipython2",
   "version": "2.7.13"
  }
 },
 "nbformat": 4,
 "nbformat_minor": 2
}
