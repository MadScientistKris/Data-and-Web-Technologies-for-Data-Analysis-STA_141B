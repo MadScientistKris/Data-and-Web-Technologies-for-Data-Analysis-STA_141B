{
 "cells": [
  {
   "cell_type": "markdown",
   "metadata": {},
   "source": [
    "# Assignment 4\n",
    "\n",
    "In this assignment, you'll combine the assignment 3 data set with nutrition data from the [USDA Food Composition Databases](https://ndb.nal.usda.gov/ndb/search/list). The CSV file `fresh.csv` contains the fresh fruits and vegetables data you extracted in assignment 3.\n",
    "\n",
    "The USDA Food Composition Databases have a [documented](https://ndb.nal.usda.gov/ndb/doc/index) web API that returns data in JSON format . You need a key in order to use the API. Only 1000 requests are allowed per hour, so it would be a good idea to use [caching][requests_cache].\n",
    "\n",
    "[Sign up for an API key here](https://api.data.gov/signup/). The key will work with any Data.gov API. You may need the key again later in the quarter, so make sure you save it.\n",
    "\n",
    "These modules may be useful:\n",
    "\n",
    "* [requests](http://docs.python-requests.org/en/master/user/quickstart/)\n",
    "* [requests_cache][]\n",
    "* [urlparse](https://docs.python.org/2/library/urlparse.html)\n",
    "* [pandas](http://pandas.pydata.org/pandas-docs/stable/)\n",
    "\n",
    "[requests_cache]: https://pypi.python.org/pypi/requests-cache"
   ]
  },
  {
   "cell_type": "markdown",
   "metadata": {},
   "source": [
    "__Exercise 1.1.__ Read the [search request documentation](https://ndb.nal.usda.gov/ndb/doc/apilist/API-SEARCH.md), then write a function called `ndb_search()` that makes a search request. The function should accept the search term as an argument. The function should return the search result items as a list (for 0 items, return an empty list).\n",
    "\n",
    "Note that the search url is: `https://api.nal.usda.gov/ndb/search`\n",
    "\n",
    "As an example, a search for `\"quail eggs\"` should return this list:\n",
    "\n",
    "```python\n",
    "[{u'ds': u'BL',\n",
    "  u'group': u'Branded Food Products Database',\n",
    "  u'name': u'CHAOKOH, QUAIL EGG IN BRINE, UPC: 044738074186',\n",
    "  u'ndbno': u'45094707',\n",
    "  u'offset': 0},\n",
    " {u'ds': u'BL',\n",
    "  u'group': u'Branded Food Products Database',\n",
    "  u'name': u'L&W, QUAIL EGGS, UPC: 024072000256',\n",
    "  u'ndbno': u'45094890',\n",
    "  u'offset': 1},\n",
    " {u'ds': u'BL',\n",
    "  u'group': u'Branded Food Products Database',\n",
    "  u'name': u'BUDDHA, QUAIL EGGS IN BRINE, UPC: 761934535098',\n",
    "  u'ndbno': u'45099560',\n",
    "  u'offset': 2},\n",
    " {u'ds': u'BL',\n",
    "  u'group': u'Branded Food Products Database',\n",
    "  u'name': u'GRAN SABANA, QUAIL EGGS, UPC: 819140010103',\n",
    "  u'ndbno': u'45169279',\n",
    "  u'offset': 3},\n",
    " {u'ds': u'BL',\n",
    "  u'group': u'Branded Food Products Database',\n",
    "  u'name': u\"D'ARTAGNAN, QUAIL EGGS, UPC: 736622102630\",\n",
    "  u'ndbno': u'45178254',\n",
    "  u'offset': 4},\n",
    " {u'ds': u'SR',\n",
    "  u'group': u'Dairy and Egg Products',\n",
    "  u'name': u'Egg, quail, whole, fresh, raw',\n",
    "  u'ndbno': u'01140',\n",
    "  u'offset': 5}]\n",
    "```\n",
    "\n",
    "As usual, make sure you document and test your function."
   ]
  },
  {
   "cell_type": "code",
   "execution_count": 484,
   "metadata": {
    "collapsed": true
   },
   "outputs": [],
   "source": [
    "import requests\n",
    "import pandas as pd\n",
    "import numpy as np\n",
    "import requests_cache\n",
    "import seaborn as sns\n",
    "import matplotlib.pyplot as plt"
   ]
  },
  {
   "cell_type": "code",
   "execution_count": 45,
   "metadata": {
    "collapsed": true
   },
   "outputs": [],
   "source": [
    "def ndb_search(search_term, key):\n",
    "    ''' Make a request to the database api on the given search team\n",
    "    Args:\n",
    "        search_term(string): the term we are going to search on the database\n",
    "        key(string): Api key.\n",
    "    Returns:\n",
    "        a list of results and it will be an empty list when no searching result in the database.\n",
    "    '''\n",
    "    url = 'https://api.nal.usda.gov/ndb/search'\n",
    "    response =  requests.get(url, params={'api_key': key, 'q': search_term,'format': 'JSON'})\n",
    "    response.raise_for_status()\n",
    "    if response.json().keys() == ['errors']:\n",
    "        return []\n",
    "    else:\n",
    "        return response.json()['list']['item']"
   ]
  },
  {
   "cell_type": "code",
   "execution_count": 54,
   "metadata": {
    "collapsed": false
   },
   "outputs": [
    {
     "name": "stdout",
     "output_type": "stream",
     "text": [
      "[]\n"
     ]
    },
    {
     "data": {
      "text/plain": [
       "[{u'ds': u'BL',\n",
       "  u'group': u'Branded Food Products Database',\n",
       "  u'name': u'CHAOKOH, QUAIL EGG IN BRINE, UPC: 044738074186',\n",
       "  u'ndbno': u'45094707',\n",
       "  u'offset': 0},\n",
       " {u'ds': u'BL',\n",
       "  u'group': u'Branded Food Products Database',\n",
       "  u'name': u'L&W, QUAIL EGGS, UPC: 024072000256',\n",
       "  u'ndbno': u'45094890',\n",
       "  u'offset': 1},\n",
       " {u'ds': u'BL',\n",
       "  u'group': u'Branded Food Products Database',\n",
       "  u'name': u'BUDDHA, QUAIL EGGS IN BRINE, UPC: 761934535098',\n",
       "  u'ndbno': u'45099560',\n",
       "  u'offset': 2},\n",
       " {u'ds': u'BL',\n",
       "  u'group': u'Branded Food Products Database',\n",
       "  u'name': u'GRAN SABANA, QUAIL EGGS, UPC: 819140010103',\n",
       "  u'ndbno': u'45169279',\n",
       "  u'offset': 3},\n",
       " {u'ds': u'BL',\n",
       "  u'group': u'Branded Food Products Database',\n",
       "  u'name': u\"D'ARTAGNAN, QUAIL EGGS, UPC: 736622102630\",\n",
       "  u'ndbno': u'45178254',\n",
       "  u'offset': 4},\n",
       " {u'ds': u'SR',\n",
       "  u'group': u'Dairy and Egg Products',\n",
       "  u'name': u'Egg, quail, whole, fresh, raw',\n",
       "  u'ndbno': u'01140',\n",
       "  u'offset': 5}]"
      ]
     },
     "execution_count": 54,
     "metadata": {},
     "output_type": "execute_result"
    }
   ],
   "source": [
    "requests_cache.install_cache('db_cache')\n",
    "key = '2fkEnZIKQy85Hal7DzqfZhPDV3eICrvlbEaan7u0'\n",
    "\n",
    "test1 = ndb_search(\"quail eggs\" , key)\n",
    "test2 = ndb_search(\"quaiwwrl eggs\" , key)\n",
    "\n",
    "print test2\n",
    "test1"
   ]
  },
  {
   "cell_type": "markdown",
   "metadata": {},
   "source": [
    "__Exercise 1.2.__ Use your search function to get NDB numbers for the foods in the `fresh.csv` file. It's okay if you don't get an NDB number for every food, but try to come up with a strategy that gets most of them. Discuss your strategy in a short paragraph.\n",
    "\n",
    "Hints:\n",
    "\n",
    "* The foods are all raw and unbranded.\n",
    "* You can test search terms with the [online search page](https://ndb.nal.usda.gov/ndb/search/list).\n",
    "* You can convert the output of `ndb_search()` to a data frame with `pd.DataFrame()`.\n",
    "* The string methods for [Python](https://docs.python.org/2/library/stdtypes.html#string-methods) and [Pandas](http://pandas.pydata.org/pandas-docs/stable/text.html#method-summary) are useful here. It's okay if you use _simple_ regular expressions in the Pandas methods, although this exercise can be solved without them.\n",
    "* You can merge data frames that have a column in common with `pd.merge()`."
   ]
  },
  {
   "cell_type": "code",
   "execution_count": 335,
   "metadata": {
    "collapsed": false
   },
   "outputs": [],
   "source": [
    "def get_ndbno(csv, key = '2fkEnZIKQy85Hal7DzqfZhPDV3eICrvlbEaan7u0'):\n",
    "    ''' get the NDB numbers\n",
    "    Args:\n",
    "        csv: a pd data frame of csv\n",
    "        key: Api key\n",
    "    return:\n",
    "        dict: NDM numbers\n",
    "    '''\n",
    "    ndbno = {}\n",
    "    \n",
    "    for food in csv['food']:\n",
    "        result_ls = ndb_search(food + ' raw' , key) # search 'name raw'\n",
    "        df = pd.DataFrame(result_ls)\n",
    "        \n",
    "        if df.empty:\n",
    "            ndbno[food] = []\n",
    "            continue\n",
    "        # make a filter on 'group' to gurantee unbranded    \n",
    "        df1 = df[(df['group'] == 'Fruits and Fruit Juices') | (df['group'] == 'Vegetables and Vegetable Products')]\n",
    "\n",
    "        if len(df1['name']) == 0:\n",
    "            ndbno[food] = []\n",
    "            continue\n",
    "        # Choose the shortest string    \n",
    "        idx_min = np.argmin(map(len, df1['name']))\n",
    "        ndbno[food] = df1.reset_index().ix[idx_min,'ndbno']\n",
    "    \n",
    "    return ndbno \n",
    "    "
   ]
  },
  {
   "cell_type": "code",
   "execution_count": 336,
   "metadata": {
    "collapsed": false,
    "scrolled": true
   },
   "outputs": [
    {
     "data": {
      "text/plain": [
       "8"
      ]
     },
     "execution_count": 336,
     "metadata": {},
     "output_type": "execute_result"
    }
   ],
   "source": [
    "fresh = pd.read_csv('fresh.csv', header=0)\n",
    "NDB = get_ndbno(fresh)\n",
    "sum(map(lambda i: i == [], NDB.values())) # number of null "
   ]
  },
  {
   "cell_type": "markdown",
   "metadata": {},
   "source": [
    "My filtering strategy is that:\n",
    "1. search food + raw. ie(apples raw)\n",
    "2. filter the group by 'Fruits and Fruit Juices' or 'Vegetables and Vegetable Products' to gurantee unbranded\n",
    "3. choose the one with the shortest name\n",
    "\n",
    "<h4>I have tried to filter by finding patterns like r'^apples,' and r' apples,' to make more precise searching. However, I found some of the food in 'name' are in plural form while the name in fresh.csv which I have used in regex is singel which makes no matching in my previous searching function. Therefore, I give up for that strategy</h4>"
   ]
  },
  {
   "cell_type": "markdown",
   "metadata": {},
   "source": [
    "__Exercise 1.3.__ Read the [food reports V2 documentation](https://ndb.nal.usda.gov/ndb/doc/apilist/API-FOOD-REPORTV2.md), then write a function called `ndb_report()` that requests a _basic_ food report. The function should accept the NDB number as an argument and return the list of nutrients for the food.\n",
    "\n",
    "Note that the report url is: `https://api.nal.usda.gov/ndb/V2/reports`\n",
    "\n",
    "For example, for `\"09279\"` (raw plums) the first element of the returned list should be:\n",
    "\n",
    "```python\n",
    "{u'group': u'Proximates',\n",
    " u'measures': [{u'eqv': 165.0,\n",
    "   u'eunit': u'g',\n",
    "   u'label': u'cup, sliced',\n",
    "   u'qty': 1.0,\n",
    "   u'value': u'143.93'},\n",
    "  {u'eqv': 66.0,\n",
    "   u'eunit': u'g',\n",
    "   u'label': u'fruit (2-1/8\" dia)',\n",
    "   u'qty': 1.0,\n",
    "   u'value': u'57.57'},\n",
    "  {u'eqv': 151.0,\n",
    "   u'eunit': u'g',\n",
    "   u'label': u'NLEA serving',\n",
    "   u'qty': 1.0,\n",
    "   u'value': u'131.72'}],\n",
    " u'name': u'Water',\n",
    " u'nutrient_id': u'255',\n",
    " u'unit': u'g',\n",
    " u'value': u'87.23'}\n",
    "```\n",
    "\n",
    "Be sure to document and test your function."
   ]
  },
  {
   "cell_type": "code",
   "execution_count": 386,
   "metadata": {
    "collapsed": true
   },
   "outputs": [],
   "source": [
    "def ndb_report(ndbno, key = '2fkEnZIKQy85Hal7DzqfZhPDV3eICrvlbEaan7u0'):\n",
    "    '''get report for a type of food:\n",
    "    Args:\n",
    "        ndbno(string): NDB number\n",
    "        key: API keys\n",
    "    Returns:\n",
    "        list of report\n",
    "    '''\n",
    "    url = 'https://api.nal.usda.gov/ndb/V2/reports'\n",
    "    response = requests.get(url, params={'api_key': key, 'ndbno': ndbno, 'format': 'JSON'})\n",
    "    response.raise_for_status()\n",
    "    doc = response.json()\n",
    "    return doc['foods'][0]['food']['nutrients']"
   ]
  },
  {
   "cell_type": "code",
   "execution_count": 384,
   "metadata": {
    "collapsed": false
   },
   "outputs": [
    {
     "data": {
      "text/plain": [
       "{u'group': u'Proximates',\n",
       " u'measures': [{u'eqv': 165.0,\n",
       "   u'eunit': u'g',\n",
       "   u'label': u'cup, sliced',\n",
       "   u'qty': 1.0,\n",
       "   u'value': u'143.93'},\n",
       "  {u'eqv': 66.0,\n",
       "   u'eunit': u'g',\n",
       "   u'label': u'fruit (2-1/8\" dia)',\n",
       "   u'qty': 1.0,\n",
       "   u'value': u'57.57'},\n",
       "  {u'eqv': 151.0,\n",
       "   u'eunit': u'g',\n",
       "   u'label': u'NLEA serving',\n",
       "   u'qty': 1.0,\n",
       "   u'value': u'131.72'}],\n",
       " u'name': u'Water',\n",
       " u'nutrient_id': u'255',\n",
       " u'unit': u'g',\n",
       " u'value': u'87.23'}"
      ]
     },
     "execution_count": 384,
     "metadata": {},
     "output_type": "execute_result"
    }
   ],
   "source": [
    "ndb_report('09279')[0]"
   ]
  },
  {
   "cell_type": "markdown",
   "metadata": {},
   "source": [
    "__Exercise 1.4.__ Which foods provide the best combination of price, yield, and nutrition? You can use kilocalories as a measure of \"nutrition\" here, but more a detailed analysis is better. Use plots to support your analysis."
   ]
  },
  {
   "cell_type": "code",
   "execution_count": 467,
   "metadata": {
    "collapsed": false
   },
   "outputs": [],
   "source": [
    "# set empty list as NaN\n",
    "ndbno_df = pd.DataFrame(pd.Series(NDB)).reset_index().rename(columns={'index': 'food', 0: 'ndbno'})\n",
    "ndbno_df[[not i for i in ndbno_df['ndbno']]] = np.nan\n",
    "fresh_ndb = fresh.merge(ndbno_df, how='left', on='food', sort='lb_per_cup')\n",
    "\n",
    "# scape the report of nutrition(kilocalories)\n",
    "nutrition = []\n",
    "for number in fresh_ndb['ndbno']:\n",
    "    if pd.isnull(number):\n",
    "        nutrition.append(np.nan)\n",
    "    else:\n",
    "        idx = np.array([i['name'] for i in ndb_report(number)]) == 'Energy'\n",
    "        value = np.array(ndb_report(number))[idx][0]['value']\n",
    "        nutrition.append(value)\n",
    "        \n",
    "    \n",
    "        "
   ]
  },
  {
   "cell_type": "code",
   "execution_count": 476,
   "metadata": {
    "collapsed": false
   },
   "outputs": [
    {
     "data": {
      "text/html": [
       "<div>\n",
       "<table border=\"1\" class=\"dataframe\">\n",
       "  <thead>\n",
       "    <tr style=\"text-align: right;\">\n",
       "      <th></th>\n",
       "      <th>form</th>\n",
       "      <th>price_per_lb</th>\n",
       "      <th>yield</th>\n",
       "      <th>lb_per_cup</th>\n",
       "      <th>price_per_cup</th>\n",
       "      <th>food</th>\n",
       "      <th>type</th>\n",
       "      <th>ndbno</th>\n",
       "      <th>nutrition</th>\n",
       "    </tr>\n",
       "  </thead>\n",
       "  <tbody>\n",
       "    <tr>\n",
       "      <th>0</th>\n",
       "      <td>Fresh1</td>\n",
       "      <td>1.172248</td>\n",
       "      <td>0.458554</td>\n",
       "      <td>0.451948</td>\n",
       "      <td>1.155360</td>\n",
       "      <td>acorn_squash</td>\n",
       "      <td>vegetables</td>\n",
       "      <td>NaN</td>\n",
       "      <td>NaN</td>\n",
       "    </tr>\n",
       "    <tr>\n",
       "      <th>1</th>\n",
       "      <td>Fresh1</td>\n",
       "      <td>1.567515</td>\n",
       "      <td>0.900000</td>\n",
       "      <td>0.242508</td>\n",
       "      <td>0.422373</td>\n",
       "      <td>apples</td>\n",
       "      <td>fruit</td>\n",
       "      <td>09312</td>\n",
       "      <td>25</td>\n",
       "    </tr>\n",
       "    <tr>\n",
       "      <th>2</th>\n",
       "      <td>Fresh1</td>\n",
       "      <td>3.040072</td>\n",
       "      <td>0.930000</td>\n",
       "      <td>0.363763</td>\n",
       "      <td>1.189102</td>\n",
       "      <td>apricots</td>\n",
       "      <td>fruit</td>\n",
       "      <td>09021</td>\n",
       "      <td>48</td>\n",
       "    </tr>\n",
       "    <tr>\n",
       "      <th>3</th>\n",
       "      <td>Fresh1</td>\n",
       "      <td>2.213050</td>\n",
       "      <td>0.375309</td>\n",
       "      <td>0.385809</td>\n",
       "      <td>2.274967</td>\n",
       "      <td>artichoke</td>\n",
       "      <td>vegetables</td>\n",
       "      <td>11226</td>\n",
       "      <td>73</td>\n",
       "    </tr>\n",
       "    <tr>\n",
       "      <th>4</th>\n",
       "      <td>Fresh1</td>\n",
       "      <td>3.213494</td>\n",
       "      <td>0.493835</td>\n",
       "      <td>0.396832</td>\n",
       "      <td>2.582272</td>\n",
       "      <td>asparagus</td>\n",
       "      <td>vegetables</td>\n",
       "      <td>11011</td>\n",
       "      <td>20</td>\n",
       "    </tr>\n",
       "  </tbody>\n",
       "</table>\n",
       "</div>"
      ],
      "text/plain": [
       "     form  price_per_lb     yield  lb_per_cup  price_per_cup          food  \\\n",
       "0  Fresh1      1.172248  0.458554    0.451948       1.155360  acorn_squash   \n",
       "1  Fresh1      1.567515  0.900000    0.242508       0.422373        apples   \n",
       "2  Fresh1      3.040072  0.930000    0.363763       1.189102      apricots   \n",
       "3  Fresh1      2.213050  0.375309    0.385809       2.274967     artichoke   \n",
       "4  Fresh1      3.213494  0.493835    0.396832       2.582272     asparagus   \n",
       "\n",
       "         type  ndbno nutrition  \n",
       "0  vegetables    NaN       NaN  \n",
       "1       fruit  09312        25  \n",
       "2       fruit  09021        48  \n",
       "3  vegetables  11226        73  \n",
       "4  vegetables  11011        20  "
      ]
     },
     "execution_count": 476,
     "metadata": {},
     "output_type": "execute_result"
    }
   ],
   "source": [
    "# merge\n",
    "#fresh_ndb['nutrition'] = nutrition\n",
    "fresh_ndb.head()"
   ]
  },
  {
   "cell_type": "code",
   "execution_count": 481,
   "metadata": {
    "collapsed": false
   },
   "outputs": [
    {
     "data": {
      "text/html": [
       "<div>\n",
       "<table border=\"1\" class=\"dataframe\">\n",
       "  <thead>\n",
       "    <tr style=\"text-align: right;\">\n",
       "      <th></th>\n",
       "      <th>form</th>\n",
       "      <th>price_per_lb</th>\n",
       "      <th>yield</th>\n",
       "      <th>lb_per_cup</th>\n",
       "      <th>price_per_cup</th>\n",
       "      <th>food</th>\n",
       "      <th>type</th>\n",
       "      <th>ndbno</th>\n",
       "      <th>nutrition</th>\n",
       "      <th>index_combined</th>\n",
       "    </tr>\n",
       "  </thead>\n",
       "  <tbody>\n",
       "    <tr>\n",
       "      <th>6</th>\n",
       "      <td>Fresh1</td>\n",
       "      <td>0.566983</td>\n",
       "      <td>0.640000</td>\n",
       "      <td>0.330693</td>\n",
       "      <td>0.292965</td>\n",
       "      <td>bananas</td>\n",
       "      <td>fruit</td>\n",
       "      <td>09040</td>\n",
       "      <td>89</td>\n",
       "      <td>100.461492</td>\n",
       "    </tr>\n",
       "    <tr>\n",
       "      <th>39</th>\n",
       "      <td>Fresh1</td>\n",
       "      <td>0.564320</td>\n",
       "      <td>0.811301</td>\n",
       "      <td>0.264555</td>\n",
       "      <td>0.184017</td>\n",
       "      <td>potatoes</td>\n",
       "      <td>vegetables</td>\n",
       "      <td>11362</td>\n",
       "      <td>58</td>\n",
       "      <td>83.384393</td>\n",
       "    </tr>\n",
       "    <tr>\n",
       "      <th>32</th>\n",
       "      <td>Fresh1</td>\n",
       "      <td>1.035173</td>\n",
       "      <td>0.730000</td>\n",
       "      <td>0.407855</td>\n",
       "      <td>0.578357</td>\n",
       "      <td>oranges</td>\n",
       "      <td>fruit</td>\n",
       "      <td>09216</td>\n",
       "      <td>97</td>\n",
       "      <td>68.404043</td>\n",
       "    </tr>\n",
       "    <tr>\n",
       "      <th>48</th>\n",
       "      <td>Fresh1</td>\n",
       "      <td>0.333412</td>\n",
       "      <td>0.520000</td>\n",
       "      <td>0.330693</td>\n",
       "      <td>0.212033</td>\n",
       "      <td>watermelon</td>\n",
       "      <td>fruit</td>\n",
       "      <td>09326</td>\n",
       "      <td>30</td>\n",
       "      <td>46.788953</td>\n",
       "    </tr>\n",
       "    <tr>\n",
       "      <th>20</th>\n",
       "      <td>Fresh1</td>\n",
       "      <td>2.093827</td>\n",
       "      <td>0.960000</td>\n",
       "      <td>0.330693</td>\n",
       "      <td>0.721266</td>\n",
       "      <td>grapes</td>\n",
       "      <td>fruit</td>\n",
       "      <td>11974</td>\n",
       "      <td>93</td>\n",
       "      <td>42.639618</td>\n",
       "    </tr>\n",
       "  </tbody>\n",
       "</table>\n",
       "</div>"
      ],
      "text/plain": [
       "      form  price_per_lb     yield  lb_per_cup  price_per_cup        food  \\\n",
       "6   Fresh1      0.566983  0.640000    0.330693       0.292965     bananas   \n",
       "39  Fresh1      0.564320  0.811301    0.264555       0.184017    potatoes   \n",
       "32  Fresh1      1.035173  0.730000    0.407855       0.578357     oranges   \n",
       "48  Fresh1      0.333412  0.520000    0.330693       0.212033  watermelon   \n",
       "20  Fresh1      2.093827  0.960000    0.330693       0.721266      grapes   \n",
       "\n",
       "          type  ndbno nutrition  index_combined  \n",
       "6        fruit  09040        89      100.461492  \n",
       "39  vegetables  11362        58       83.384393  \n",
       "32       fruit  09216        97       68.404043  \n",
       "48       fruit  09326        30       46.788953  \n",
       "20       fruit  11974        93       42.639618  "
      ]
     },
     "execution_count": 481,
     "metadata": {},
     "output_type": "execute_result"
    }
   ],
   "source": [
    "# Design the index for scoring the combination and sort the df by that index\n",
    "fresh_ndb.dropna(inplace=True)\n",
    "fresh_ndb['index_combined'] = fresh_ndb['nutrition'].astype(int) * fresh_ndb['yield'].astype(float) / fresh_ndb['price_per_lb'].astype(float)\n",
    "fresh_ndb.sort_values('index_combined', inplace=True, ascending=False)\n",
    "fresh_ndb.head()"
   ]
  },
  {
   "cell_type": "code",
   "execution_count": 485,
   "metadata": {
    "collapsed": false
   },
   "outputs": [
    {
     "data": {
      "image/png": "[encoded data removed]",
      "text/plain": [
       "<matplotlib.figure.Figure at 0x110b59710>"
      ]
     },
     "metadata": {},
     "output_type": "display_data"
    }
   ],
   "source": [
    "sns.barplot(x='food', y='index_combined', data=fresh_ndb)\n",
    "plt.title('combined index of food')\n",
    "plt.xticks(rotation='vertical')\n",
    "plt.ylabel('index')\n",
    "plt.xlabel('food')\n",
    "plt.show()"
   ]
  },
  {
   "cell_type": "markdown",
   "metadata": {},
   "source": [
    "My defination of best combination is the higher nutrition, higher yield with lower price. From the plot we can see that banana and potatoe are the most valuable food while asparagus has the least value."
   ]
  }
 ],
 "metadata": {
  "anaconda-cloud": {},
  "kernelspec": {
   "display_name": "Python 2",
   "language": "python",
   "name": "python2"
  },
  "language_info": {
   "codemirror_mode": {
    "name": "ipython",
    "version": 2
   },
   "file_extension": ".py",
   "mimetype": "text/x-python",
   "name": "python",
   "nbconvert_exporter": "python",
   "pygments_lexer": "ipython2",
   "version": "2.7.13"
  }
 },
 "nbformat": 4,
 "nbformat_minor": 2
}
