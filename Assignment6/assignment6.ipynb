{
 "cells": [
  {
   "cell_type": "markdown",
   "metadata": {},
   "source": [
    "# Assignment 6\n",
    "\n",
    "In this assignment, you'll analyze a collection of data sets from the [San Francisco Open Data Portal](http://data.sfgov.org/) and [Zillow](https://www.zillow.com/). The data sets have been stored in the SQLite database `sf_data.sqlite`, which you can [download here](http://anson.ucdavis.edu/~nulle/sf_data.sqlite). The database contains the following tables:\n",
    "\n",
    "Table                   | Description\n",
    "----------------------- | -----------\n",
    "`crime`                 | Crime reports dating back to 2010.\n",
    "`mobile_food_locations` | List of all locations where mobile food vendors sell.\n",
    "`mobile_food_permits`   | List of all mobile food vendor permits. More details [here](https://data.sfgov.org/api/views/rqzj-sfat/files/8g2f5RV4PEk0_b24iJEtgEet9gnh_eA27GlqoOjjK4k?download=true&filename=DPW_DataDictionary_Mobile-Food-Facility-Permit.pdf).\n",
    "`mobile_food_schedule`  | Schedules for mobile food vendors.\n",
    "`noise`                 | Noise complaints dating back to August 2015.\n",
    "`parking`               | List of all parking lots.\n",
    "`parks`                 | List of all parks.\n",
    "`schools`               | List of all schools.\n",
    "`zillow`                | Zillow rent and housing statistics dating back to 1996. More details [here](https://www.zillow.com/research/data/).\n",
    "\n",
    "The `mobile_food_` tables are explicitly connected through the `locationid` and `permit` columns. The other tables are not connected, but you may be able to connect them using dates, latitude/longitude, or postal codes.\n",
    "\n",
    "Shapefiles for US postal codes are available [here](https://www.census.gov/geo/maps-data/data/cbf/cbf_zcta.html). These may be useful for converting latitude/longitude to postal codes.\n",
    "\n",
    "Shapefiles for San Francisco Neighborhoods are available [here](https://data.sfgov.org/Geographic-Locations-and-Boundaries/SF-Find-Neighborhoods/pty2-tcw4)."
   ]
  },
  {
   "cell_type": "markdown",
   "metadata": {},
   "source": [
    "__Exercise 1.1.__ Which mobile food vendor(s) sells at the most locations?"
   ]
  },
  {
   "cell_type": "code",
   "execution_count": 18,
   "metadata": {
    "collapsed": false
   },
   "outputs": [],
   "source": [
    "import pandas as pd\n",
    "import numpy as np\n",
    "from sqlalchemy import *\n",
    "from IPython.display import IFrame\n",
    "import folium\n",
    "from folium import plugins\n",
    "import pygeoj\n",
    "import matplotlib.pyplot as plt\n",
    "import seaborn as sns\n",
    "import re"
   ]
  },
  {
   "cell_type": "code",
   "execution_count": 19,
   "metadata": {
    "collapsed": true
   },
   "outputs": [],
   "source": [
    "engine = create_engine('sqlite:///sf_data.sqlite')\n",
    "db = engine.connect()"
   ]
  },
  {
   "cell_type": "code",
   "execution_count": 20,
   "metadata": {
    "collapsed": false
   },
   "outputs": [
    {
     "data": {
      "text/html": [
       "<div>\n",
       "<table border=\"1\" class=\"dataframe\">\n",
       "  <thead>\n",
       "    <tr style=\"text-align: right;\">\n",
       "      <th></th>\n",
       "      <th>locationid</th>\n",
       "      <th>LocationDescription</th>\n",
       "      <th>Address</th>\n",
       "      <th>Latitude</th>\n",
       "      <th>Longitude</th>\n",
       "    </tr>\n",
       "  </thead>\n",
       "  <tbody>\n",
       "    <tr>\n",
       "      <th>0</th>\n",
       "      <td>762182</td>\n",
       "      <td>TOWNSEND ST: 05TH ST to 06TH ST (400 - 499)</td>\n",
       "      <td>444 TOWNSEND ST</td>\n",
       "      <td>37.774871</td>\n",
       "      <td>-122.398532</td>\n",
       "    </tr>\n",
       "  </tbody>\n",
       "</table>\n",
       "</div>"
      ],
      "text/plain": [
       "   locationid                          LocationDescription          Address  \\\n",
       "0      762182  TOWNSEND ST: 05TH ST to 06TH ST (400 - 499)  444 TOWNSEND ST   \n",
       "\n",
       "    Latitude   Longitude  \n",
       "0  37.774871 -122.398532  "
      ]
     },
     "execution_count": 20,
     "metadata": {},
     "output_type": "execute_result"
    }
   ],
   "source": [
    "pd.read_sql('SELECT * FROM mobile_food_locations '\n",
    "            'LIMIT 1', db)"
   ]
  },
  {
   "cell_type": "code",
   "execution_count": 21,
   "metadata": {
    "collapsed": false
   },
   "outputs": [
    {
     "data": {
      "text/html": [
       "<div>\n",
       "<table border=\"1\" class=\"dataframe\">\n",
       "  <thead>\n",
       "    <tr style=\"text-align: right;\">\n",
       "      <th></th>\n",
       "      <th>permit</th>\n",
       "      <th>Status</th>\n",
       "      <th>Applicant</th>\n",
       "      <th>FacilityType</th>\n",
       "      <th>FoodItems</th>\n",
       "      <th>PriorPermit</th>\n",
       "      <th>Approved</th>\n",
       "      <th>Expiration</th>\n",
       "    </tr>\n",
       "  </thead>\n",
       "  <tbody>\n",
       "    <tr>\n",
       "      <th>0</th>\n",
       "      <td>16MFF-0027</td>\n",
       "      <td>APPROVED</td>\n",
       "      <td>F &amp; C Catering</td>\n",
       "      <td>Truck</td>\n",
       "      <td>Cold Truck: Hot/Cold Sandwiches: Water: Soda: ...</td>\n",
       "      <td>1</td>\n",
       "      <td>2016-03-09 12:00:00</td>\n",
       "      <td>2017-03-15 12:00:00</td>\n",
       "    </tr>\n",
       "  </tbody>\n",
       "</table>\n",
       "</div>"
      ],
      "text/plain": [
       "       permit    Status       Applicant FacilityType  \\\n",
       "0  16MFF-0027  APPROVED  F & C Catering        Truck   \n",
       "\n",
       "                                           FoodItems  PriorPermit  \\\n",
       "0  Cold Truck: Hot/Cold Sandwiches: Water: Soda: ...            1   \n",
       "\n",
       "              Approved           Expiration  \n",
       "0  2016-03-09 12:00:00  2017-03-15 12:00:00  "
      ]
     },
     "execution_count": 21,
     "metadata": {},
     "output_type": "execute_result"
    }
   ],
   "source": [
    "pd.read_sql('SELECT * FROM mobile_food_permits '\n",
    "            'LIMIT 1', db)"
   ]
  },
  {
   "cell_type": "code",
   "execution_count": 22,
   "metadata": {
    "collapsed": false
   },
   "outputs": [
    {
     "data": {
      "text/html": [
       "<div>\n",
       "<table border=\"1\" class=\"dataframe\">\n",
       "  <thead>\n",
       "    <tr style=\"text-align: right;\">\n",
       "      <th></th>\n",
       "      <th>locationid</th>\n",
       "      <th>permit</th>\n",
       "      <th>DayOfWeek</th>\n",
       "      <th>EndHour</th>\n",
       "      <th>StartHour</th>\n",
       "    </tr>\n",
       "  </thead>\n",
       "  <tbody>\n",
       "    <tr>\n",
       "      <th>0</th>\n",
       "      <td>305727</td>\n",
       "      <td>11MFF-0040</td>\n",
       "      <td>Mo</td>\n",
       "      <td>15</td>\n",
       "      <td>10</td>\n",
       "    </tr>\n",
       "  </tbody>\n",
       "</table>\n",
       "</div>"
      ],
      "text/plain": [
       "   locationid      permit DayOfWeek  EndHour  StartHour\n",
       "0      305727  11MFF-0040        Mo       15         10"
      ]
     },
     "execution_count": 22,
     "metadata": {},
     "output_type": "execute_result"
    }
   ],
   "source": [
    "pd.read_sql('SELECT * FROM mobile_food_schedule '\n",
    "            'LIMIT 1', db)"
   ]
  },
  {
   "cell_type": "code",
   "execution_count": 23,
   "metadata": {
    "collapsed": false
   },
   "outputs": [
    {
     "data": {
      "text/html": [
       "<div>\n",
       "<table border=\"1\" class=\"dataframe\">\n",
       "  <thead>\n",
       "    <tr style=\"text-align: right;\">\n",
       "      <th></th>\n",
       "      <th>Applicant</th>\n",
       "      <th>local_number</th>\n",
       "    </tr>\n",
       "  </thead>\n",
       "  <tbody>\n",
       "    <tr>\n",
       "      <th>0</th>\n",
       "      <td>May Catering</td>\n",
       "      <td>58</td>\n",
       "    </tr>\n",
       "  </tbody>\n",
       "</table>\n",
       "</div>"
      ],
      "text/plain": [
       "      Applicant  local_number\n",
       "0  May Catering            58"
      ]
     },
     "execution_count": 23,
     "metadata": {},
     "output_type": "execute_result"
    }
   ],
   "source": [
    "pd.read_sql('SELECT Applicant, count(DISTINCT locationid) AS local_number '\n",
    "         'FROM mobile_food_schedule AS s '\n",
    "         'INNER JOIN mobile_food_permits AS p ON s.permit = p.permit '\n",
    "         'GROUP BY Applicant '\n",
    "         'ORDER BY local_number DESC LIMIT 1', db)"
   ]
  },
  {
   "cell_type": "markdown",
   "metadata": {},
   "source": [
    "May Catering sells at most locations."
   ]
  },
  {
   "cell_type": "markdown",
   "metadata": {},
   "source": [
    "__Exercise 1.2.__ Ask and use the database to analyze 5 questions about San Francisco. For each question, write at least 150 words and support your answer with plots. Make a map for at least 2 of the 5 questions.\n",
    "\n",
    "You should try to come up with some questions on your own, but these are examples of reasonable questions:\n",
    "\n",
    "* Which parts of the city are the most and least expensive?\n",
    "* Which parts of the city are the most dangerous (and at what times)?\n",
    "* Are noise complaints and mobile food vendors related?\n",
    "* What are the best times and places to find food trucks?\n",
    "* Is there a relationship between housing prices and any of the other tables?\n",
    "\n",
    "Please make sure to clearly state each of your questions in your submission."
   ]
  },
  {
   "cell_type": "markdown",
   "metadata": {},
   "source": [
    "* <h4>What is the distribution of housing pricing?</h4>"
   ]
  },
  {
   "cell_type": "code",
   "execution_count": 24,
   "metadata": {
    "collapsed": false
   },
   "outputs": [
    {
     "data": {
      "text/html": [
       "<div>\n",
       "<table border=\"1\" class=\"dataframe\">\n",
       "  <thead>\n",
       "    <tr style=\"text-align: right;\">\n",
       "      <th></th>\n",
       "      <th>RegionName</th>\n",
       "      <th>avg_price</th>\n",
       "    </tr>\n",
       "  </thead>\n",
       "  <tbody>\n",
       "    <tr>\n",
       "      <th>0</th>\n",
       "      <td>94124</td>\n",
       "      <td>297.008046</td>\n",
       "    </tr>\n",
       "  </tbody>\n",
       "</table>\n",
       "</div>"
      ],
      "text/plain": [
       "   RegionName   avg_price\n",
       "0       94124  297.008046"
      ]
     },
     "execution_count": 24,
     "metadata": {},
     "output_type": "execute_result"
    }
   ],
   "source": [
    "# Cheapest\n",
    "pd.read_sql('SELECT RegionName, avg(MedianSoldPricePerSqft_AllHomes) AS avg_price FROM zillow '\n",
    "            'GROUP BY RegionName HAVING avg_price IS NOT NULL '\n",
    "            'ORDER BY avg_price LIMIT 1', db)"
   ]
  },
  {
   "cell_type": "code",
   "execution_count": 25,
   "metadata": {
    "collapsed": false
   },
   "outputs": [
    {
     "data": {
      "text/html": [
       "<div>\n",
       "<table border=\"1\" class=\"dataframe\">\n",
       "  <thead>\n",
       "    <tr style=\"text-align: right;\">\n",
       "      <th></th>\n",
       "      <th>RegionName</th>\n",
       "      <th>avg_price</th>\n",
       "    </tr>\n",
       "  </thead>\n",
       "  <tbody>\n",
       "    <tr>\n",
       "      <th>0</th>\n",
       "      <td>94104</td>\n",
       "      <td>1336.128581</td>\n",
       "    </tr>\n",
       "  </tbody>\n",
       "</table>\n",
       "</div>"
      ],
      "text/plain": [
       "   RegionName    avg_price\n",
       "0       94104  1336.128581"
      ]
     },
     "execution_count": 25,
     "metadata": {},
     "output_type": "execute_result"
    }
   ],
   "source": [
    "# Most expensive\n",
    "pd.read_sql('SELECT RegionName, avg(MedianSoldPricePerSqft_AllHomes) AS avg_price FROM zillow '\n",
    "            'GROUP BY RegionName HAVING avg_price IS NOT NULL '\n",
    "            'ORDER BY avg_price DESC LIMIT 1', db)"
   ]
  },
  {
   "cell_type": "code",
   "execution_count": 26,
   "metadata": {
    "collapsed": true
   },
   "outputs": [],
   "source": [
    "price = pd.read_sql('SELECT RegionName, avg(MedianSoldPricePerSqft_AllHomes) AS avg_price FROM zillow '\n",
    "            'GROUP BY RegionName HAVING avg_price IS NOT NULL '\n",
    "            'ORDER BY avg_price DESC', db)\n",
    "price.RegionName = price.RegionName.astype(str)"
   ]
  },
  {
   "cell_type": "code",
   "execution_count": 35,
   "metadata": {
    "collapsed": false,
    "scrolled": true
   },
   "outputs": [],
   "source": [
    "zip_geo = r'San Francisco ZIP Codes.geojson'\n",
    "SF_COORDINATES = (37.76, -122.45)\n",
    "map_price = folium.Map(location=SF_COORDINATES, zoom_start=12,\n",
    "                   tiles='Stamen Terrain')\n",
    "map_price.choropleth(geo_path = zip_geo,\n",
    "                     data = price,\n",
    "                     columns = ['RegionName', 'avg_price'],\n",
    "                     key_on = 'feature.properties.zip',\n",
    "                     fill_color = 'YlOrRd',\n",
    "                     fill_opacity = 0.7,\n",
    "                     line_opacity = 0.2,\n",
    "                     legend_name = 'Lvl of price per district')          \n",
    "map_price.save(outfile= \"map_price.html\")"
   ]
  },
  {
   "cell_type": "code",
   "execution_count": 36,
   "metadata": {
    "collapsed": false
   },
   "outputs": [
    {
     "data": {
      "text/html": [
       "\n",
       "        <iframe\n",
       "            width=\"800\"\n",
       "            height=\"500\"\n",
       "            src=\"map_price.html\"\n",
       "            frameborder=\"0\"\n",
       "            allowfullscreen\n",
       "        ></iframe>\n",
       "        "
      ],
      "text/plain": [
       "<IPython.lib.display.IFrame at 0x104f46bd0>"
      ]
     },
     "execution_count": 36,
     "metadata": {},
     "output_type": "execute_result"
    }
   ],
   "source": [
    "IFrame('map_price.html', width=800, height=500)"
   ]
  },
  {
   "cell_type": "markdown",
   "metadata": {},
   "source": [
    "The SF house pricing map shows that expensive houses and apartments tend to appear in the northeast part as well as middle part of SF. South SF are much cheaper than northeast SF. I did look at google map and found that the most expensive region is 94104 which is located between Financial District and China town. There is no doubt that my result is correct since Financial District is the downtown of SF while China town is another popular place in SF because of huge amount of Chinese and Chinese immigrants. "
   ]
  },
  {
   "cell_type": "markdown",
   "metadata": {},
   "source": [
    "* <h4>Which parts of the city are the most dangerous and at what times crime occurs the most?</h4>"
   ]
  },
  {
   "cell_type": "code",
   "execution_count": 30,
   "metadata": {
    "collapsed": false
   },
   "outputs": [
    {
     "data": {
      "text/html": [
       "<div>\n",
       "<table border=\"1\" class=\"dataframe\">\n",
       "  <thead>\n",
       "    <tr style=\"text-align: right;\">\n",
       "      <th></th>\n",
       "      <th>PdDistrict</th>\n",
       "      <th>count</th>\n",
       "    </tr>\n",
       "  </thead>\n",
       "  <tbody>\n",
       "    <tr>\n",
       "      <th>0</th>\n",
       "      <td>SOUTHERN</td>\n",
       "      <td>196178</td>\n",
       "    </tr>\n",
       "    <tr>\n",
       "      <th>1</th>\n",
       "      <td>MISSION</td>\n",
       "      <td>136216</td>\n",
       "    </tr>\n",
       "    <tr>\n",
       "      <th>2</th>\n",
       "      <td>NORTHERN</td>\n",
       "      <td>124365</td>\n",
       "    </tr>\n",
       "    <tr>\n",
       "      <th>3</th>\n",
       "      <td>CENTRAL</td>\n",
       "      <td>109242</td>\n",
       "    </tr>\n",
       "    <tr>\n",
       "      <th>4</th>\n",
       "      <td>BAYVIEW</td>\n",
       "      <td>101655</td>\n",
       "    </tr>\n",
       "  </tbody>\n",
       "</table>\n",
       "</div>"
      ],
      "text/plain": [
       "  PdDistrict   count\n",
       "0   SOUTHERN  196178\n",
       "1    MISSION  136216\n",
       "2   NORTHERN  124365\n",
       "3    CENTRAL  109242\n",
       "4    BAYVIEW  101655"
      ]
     },
     "execution_count": 30,
     "metadata": {},
     "output_type": "execute_result"
    }
   ],
   "source": [
    "crime_loc = pd.read_sql('SELECT PdDistrict, COUNT(*) as count FROM crime '\n",
    "            'GROUP BY PdDistrict '\n",
    "            'HAVING pdDistrict IS NOT NULL '\n",
    "            'ORDER BY count DESC', db)\n",
    "crime_loc.head()"
   ]
  },
  {
   "cell_type": "code",
   "execution_count": 31,
   "metadata": {
    "collapsed": false
   },
   "outputs": [
    {
     "data": {
      "text/html": [
       "<div>\n",
       "<table border=\"1\" class=\"dataframe\">\n",
       "  <thead>\n",
       "    <tr style=\"text-align: right;\">\n",
       "      <th></th>\n",
       "      <th>DayOfWeek</th>\n",
       "      <th>count</th>\n",
       "    </tr>\n",
       "  </thead>\n",
       "  <tbody>\n",
       "    <tr>\n",
       "      <th>0</th>\n",
       "      <td>Friday</td>\n",
       "      <td>159182</td>\n",
       "    </tr>\n",
       "    <tr>\n",
       "      <th>1</th>\n",
       "      <td>Saturday</td>\n",
       "      <td>151941</td>\n",
       "    </tr>\n",
       "    <tr>\n",
       "      <th>2</th>\n",
       "      <td>Wednesday</td>\n",
       "      <td>150197</td>\n",
       "    </tr>\n",
       "    <tr>\n",
       "      <th>3</th>\n",
       "      <td>Thursday</td>\n",
       "      <td>146130</td>\n",
       "    </tr>\n",
       "    <tr>\n",
       "      <th>4</th>\n",
       "      <td>Tuesday</td>\n",
       "      <td>144353</td>\n",
       "    </tr>\n",
       "  </tbody>\n",
       "</table>\n",
       "</div>"
      ],
      "text/plain": [
       "   DayOfWeek   count\n",
       "0     Friday  159182\n",
       "1   Saturday  151941\n",
       "2  Wednesday  150197\n",
       "3   Thursday  146130\n",
       "4    Tuesday  144353"
      ]
     },
     "execution_count": 31,
     "metadata": {},
     "output_type": "execute_result"
    }
   ],
   "source": [
    "pd.read_sql('SELECT DayOfWeek, COUNT(*) as count FROM crime '\n",
    "            'GROUP BY DayOfWeek '\n",
    "            'ORDER BY count DESC LIMIT 5', db)"
   ]
  },
  {
   "cell_type": "code",
   "execution_count": 37,
   "metadata": {
    "collapsed": false,
    "scrolled": true
   },
   "outputs": [],
   "source": [
    "district_geo = r'sfpddistricts.geojson'\n",
    "SF_COORDINATES = (37.76, -122.45)\n",
    "map_crime = folium.Map(location=SF_COORDINATES, zoom_start=12,\n",
    "                   tiles='Stamen Terrain')\n",
    "map_crime.choropleth(geo_path = district_geo,\n",
    "                     data = crime_loc,\n",
    "                     columns = ['PdDistrict', 'count'],\n",
    "                     key_on = 'feature.properties.DISTRICT',\n",
    "                     fill_color = 'YlOrRd',\n",
    "                     fill_opacity = 0.7,\n",
    "                     line_opacity = 0.2,\n",
    "                     legend_name = 'Number of incidents per district')          \n",
    "\n",
    "map_crime.save(outfile= \"map_crime.html\")"
   ]
  },
  {
   "cell_type": "code",
   "execution_count": 39,
   "metadata": {
    "collapsed": false
   },
   "outputs": [
    {
     "data": {
      "text/html": [
       "\n",
       "        <iframe\n",
       "            width=\"800\"\n",
       "            height=\"500\"\n",
       "            src=\"map_crime.html\"\n",
       "            frameborder=\"0\"\n",
       "            allowfullscreen\n",
       "        ></iframe>\n",
       "        "
      ],
      "text/plain": [
       "<IPython.lib.display.IFrame at 0x10c13d210>"
      ]
     },
     "execution_count": 39,
     "metadata": {},
     "output_type": "execute_result"
    }
   ],
   "source": [
    "IFrame('map_crime.html', width=800, height=500)"
   ]
  },
  {
   "cell_type": "markdown",
   "metadata": {},
   "source": [
    "SOUTHERN is the most dangerous place in SF and the number of crimes occur there is higher than the second place by 50%. Friday is the most dangerou day of week in SF. I guess people tend to hang out on Friday's night after a week of exhausting works and crimes like robbery and burglar are more likely to happen. Look at the map, we can see that downtown and China Town are the most dangerous places. However, there are tons of incidents happened on treasure island. I searched the treasure island crime map and found many thefts happen there"
   ]
  },
  {
   "cell_type": "markdown",
   "metadata": {
    "collapsed": false
   },
   "source": [
    "* <h4>Are crime and noise complains related?</h4>"
   ]
  },
  {
   "cell_type": "code",
   "execution_count": 41,
   "metadata": {
    "collapsed": false
   },
   "outputs": [],
   "source": [
    "vendor = pd.read_sql('SELECT Latitude AS Lat, Longitude AS Lon, '\n",
    "                     'count(*) as count FROM mobile_food_locations AS l '\n",
    "                     'INNER JOIN mobile_food_schedule AS s '\n",
    "                     'ON s.locationid = l.locationid '\n",
    "                     'GROUP BY Latitude, Longitude '\n",
    "                     'ORDER BY count DESC', db)\n",
    "vendor = vendor[vendor['Lat'] != 0]"
   ]
  },
  {
   "cell_type": "code",
   "execution_count": 43,
   "metadata": {
    "collapsed": false
   },
   "outputs": [],
   "source": [
    "# Color the grouped spots in order to reduce the dimension of data\n",
    "def color(count):\n",
    "    '''manually assign color by frequency'''\n",
    "    mini = min(vendor['count'])\n",
    "    step = (max(vendor['count'])-min(vendor['count']))/4\n",
    "    if count in xrange(mini, mini+step):\n",
    "        col = 'greem'\n",
    "    elif count in xrange(mini+step, mini+step*2):\n",
    "        col = 'yellow'\n",
    "    elif count in xrange(mini+step*2, mini+step*3):\n",
    "        col = 'orange'\n",
    "    else:\n",
    "        col = 'red'\n",
    "\n",
    "    return col"
   ]
  },
  {
   "cell_type": "code",
   "execution_count": 44,
   "metadata": {
    "collapsed": true
   },
   "outputs": [],
   "source": [
    "noise = pd.read_sql('SELECT Lat,Lon,count(*) as count FROM noise '\n",
    "            'WHERE Lat IS NOT NULL '\n",
    "            'GROUP BY Lat, Lon '\n",
    "            'ORDER BY count DESC', db)\n",
    "# delete the observations with extremely low frequency which avoid the map to be overwhalmed.\n",
    "noise = noise[noise['count'] != 1]"
   ]
  },
  {
   "cell_type": "code",
   "execution_count": 45,
   "metadata": {
    "collapsed": false
   },
   "outputs": [],
   "source": [
    "district_geo = r'sfpddistricts.geojson'\n",
    "SF_COORDINATES = (37.76, -122.45)\n",
    "map_crime_noise = folium.Map(location=SF_COORDINATES, zoom_start=12,\n",
    "                   tiles='Stamen Terrain')\n",
    "map_crime_noise.choropleth(geo_path = district_geo,\n",
    "                     data = crime_loc,\n",
    "                     columns = ['PdDistrict', 'count'],\n",
    "                     key_on = 'feature.properties.DISTRICT',\n",
    "                     fill_color = 'YlOrRd',\n",
    "                     fill_opacity = 0.7,\n",
    "                     line_opacity = 0.2,\n",
    "                     legend_name = 'Number of incidents per district')          \n",
    "\n",
    "noise.apply(lambda row:folium.CircleMarker(location=[row[\"Lat\"],  \\\n",
    "                                      row[\"Lon\"]], popup = str(row['count']), radius = 2.5, \\\n",
    "                                           fill_color = color(row['count']), color = color(row['count']) \\\n",
    "                                           ,).add_to(map_crime_noise),axis=1)\n",
    "\n",
    "#vendor.apply(lambda row:folium.CircleMarker(location=[row[\"Lat\"],  \\\n",
    "#                                      row[\"Lon\"]], popup = str(row['count']), radius = 2.5, \\\n",
    "#                                           fill_color = color(row['count']), color = color(row['count']) \\\n",
    "#                                           ,).add_to(map_crime),axis=1)\n",
    "\n",
    "map_crime_noise.save(outfile= \"map_crime_noise.html\")"
   ]
  },
  {
   "cell_type": "code",
   "execution_count": 46,
   "metadata": {
    "collapsed": false
   },
   "outputs": [
    {
     "data": {
      "text/html": [
       "\n",
       "        <iframe\n",
       "            width=\"800\"\n",
       "            height=\"500\"\n",
       "            src=\"map_crime_noise.html\"\n",
       "            frameborder=\"0\"\n",
       "            allowfullscreen\n",
       "        ></iframe>\n",
       "        "
      ],
      "text/plain": [
       "<IPython.lib.display.IFrame at 0x10b595a10>"
      ]
     },
     "execution_count": 46,
     "metadata": {},
     "output_type": "execute_result"
    }
   ],
   "source": [
    "IFrame('map_crime_noise.html', width=800, height=500)"
   ]
  },
  {
   "cell_type": "markdown",
   "metadata": {},
   "source": [
    "It is obvious that spots of noise complaints are clustered at orange and red districts. Therefore, there is no doubt we can draw the conclusion that noise complaints occur where crime happens a lot. However, are they related directely or indirectely? I tend to say that they are indirectely connected. More noise complaints means those districts are more \n",
    "bustling and crowed like downtown. Those crowed place seems to have more crime report like [los angelas](http://maps.latimes.com/neighborhoods/neighborhood/downtown/crime/). Therefore, I make this assumption: Both crime and noise complaint are directely related to the blustling level of a district."
   ]
  },
  {
   "cell_type": "markdown",
   "metadata": {},
   "source": [
    "* <h4>Which place has the most schools?</h4>"
   ]
  },
  {
   "cell_type": "code",
   "execution_count": 47,
   "metadata": {
    "collapsed": false
   },
   "outputs": [],
   "source": [
    "school = pd.read_sql('SELECT * FROM schools', db)"
   ]
  },
  {
   "cell_type": "code",
   "execution_count": 48,
   "metadata": {
    "collapsed": false
   },
   "outputs": [
    {
     "data": {
      "text/html": [
       "<div>\n",
       "<table border=\"1\" class=\"dataframe\">\n",
       "  <thead>\n",
       "    <tr style=\"text-align: right;\">\n",
       "      <th></th>\n",
       "      <th>zip</th>\n",
       "      <th>Name</th>\n",
       "    </tr>\n",
       "  </thead>\n",
       "  <tbody>\n",
       "    <tr>\n",
       "      <th>0</th>\n",
       "      <td>94102</td>\n",
       "      <td>23</td>\n",
       "    </tr>\n",
       "    <tr>\n",
       "      <th>1</th>\n",
       "      <td>94103</td>\n",
       "      <td>14</td>\n",
       "    </tr>\n",
       "    <tr>\n",
       "      <th>2</th>\n",
       "      <td>94105</td>\n",
       "      <td>6</td>\n",
       "    </tr>\n",
       "    <tr>\n",
       "      <th>3</th>\n",
       "      <td>94107</td>\n",
       "      <td>20</td>\n",
       "    </tr>\n",
       "    <tr>\n",
       "      <th>4</th>\n",
       "      <td>94108</td>\n",
       "      <td>12</td>\n",
       "    </tr>\n",
       "  </tbody>\n",
       "</table>\n",
       "</div>"
      ],
      "text/plain": [
       "     zip  Name\n",
       "0  94102    23\n",
       "1  94103    14\n",
       "2  94105     6\n",
       "3  94107    20\n",
       "4  94108    12"
      ]
     },
     "execution_count": 48,
     "metadata": {},
     "output_type": "execute_result"
    }
   ],
   "source": [
    "# extract the zip code from Address\n",
    "school_zip = school['Address'].apply(lambda row: re.findall(r'[9][0-9]{4}', row))\n",
    "school['zip'] = pd.Series([i[0] for i in school_zip])\n",
    "zip_count = school[['zip','Name']].groupby('zip').count().reset_index()\n",
    "zip_count.head()"
   ]
  },
  {
   "cell_type": "code",
   "execution_count": 49,
   "metadata": {
    "collapsed": false
   },
   "outputs": [],
   "source": [
    "zip_geo = r'San Francisco ZIP Codes.geojson'\n",
    "SF_COORDINATES = (37.76, -122.45)\n",
    "map_school = folium.Map(location=SF_COORDINATES, zoom_start=12,\n",
    "                   tiles='Stamen Terrain')\n",
    "map_school.choropleth(geo_path = zip_geo,\n",
    "                     data = zip_count,\n",
    "                     columns = ['zip', 'Name'],\n",
    "                     key_on = 'feature.properties.zip',\n",
    "                     fill_color = 'YlOrRd',\n",
    "                     fill_opacity = 0.7,\n",
    "                     line_opacity = 0.2,\n",
    "                     legend_name = 'Number of schools per district')          \n",
    "\n",
    "map_school.save(outfile= \"map_school.html\")"
   ]
  },
  {
   "cell_type": "code",
   "execution_count": 50,
   "metadata": {
    "collapsed": false
   },
   "outputs": [
    {
     "data": {
      "text/html": [
       "\n",
       "        <iframe\n",
       "            width=\"800\"\n",
       "            height=\"500\"\n",
       "            src=\"map_school.html\"\n",
       "            frameborder=\"0\"\n",
       "            allowfullscreen\n",
       "        ></iframe>\n",
       "        "
      ],
      "text/plain": [
       "<IPython.lib.display.IFrame at 0x104f6ebd0>"
      ]
     },
     "execution_count": 50,
     "metadata": {},
     "output_type": "execute_result"
    }
   ],
   "source": [
    "IFrame('map_school.html', width=800, height=500)"
   ]
  },
  {
   "cell_type": "markdown",
   "metadata": {},
   "source": [
    "This map is quite interesting. Schools spread out in SF. Except middle of SF, all other districts with high housing price and high crime rate do not have many school there. This is quite reasonable because schools can not be set where a large quantity of crimes occur. As we all know the SF has super bad traffic condition in US and it definitely takes too much time for student to go to school if schools are set at bustling districts. Morover, South part of SF may be a pretty good place to live on account of low price, low crime rate and large amount of schools there."
   ]
  },
  {
   "cell_type": "markdown",
   "metadata": {},
   "source": [
    "<h4>Is house price related to parking lot distribution?</h4>"
   ]
  },
  {
   "cell_type": "code",
   "execution_count": 51,
   "metadata": {
    "collapsed": false
   },
   "outputs": [],
   "source": [
    "parking=pd.read_sql('SELECT Lat, Lon, count(*) as count FROM parking '\n",
    "            'WHERE Lat != 0 '\n",
    "            'GROUP BY Lat, Lon '\n",
    "            'ORDER BY count Desc', db)"
   ]
  },
  {
   "cell_type": "code",
   "execution_count": 52,
   "metadata": {
    "collapsed": false
   },
   "outputs": [],
   "source": [
    "zip_geo = r'San Francisco ZIP Codes.geojson'\n",
    "SF_COORDINATES = (37.76, -122.45)\n",
    "map_parking = folium.Map(location=SF_COORDINATES, zoom_start=12,\n",
    "                   tiles='Stamen Terrain')\n",
    "map_parking.choropleth(geo_path = zip_geo,\n",
    "                     data = price,\n",
    "                     columns = ['RegionName', 'avg_price'],\n",
    "                     key_on = 'feature.properties.zip',\n",
    "                     fill_color = 'YlOrRd',\n",
    "                     fill_opacity = 0.7,\n",
    "                     line_opacity = 0.2,\n",
    "                     legend_name = 'Lvl of price per district')          \n",
    "\n",
    "parking.apply(lambda row:folium.CircleMarker(location=[row[\"Lat\"],  \\\n",
    "                                      row[\"Lon\"]], radius = 1).add_to(map_parking),axis=1)\n",
    "map_parking.save(outfile= \"map_parking.html\")"
   ]
  },
  {
   "cell_type": "code",
   "execution_count": 53,
   "metadata": {
    "collapsed": false
   },
   "outputs": [
    {
     "data": {
      "text/html": [
       "\n",
       "        <iframe\n",
       "            width=\"800\"\n",
       "            height=\"500\"\n",
       "            src=\"map_parking.html\"\n",
       "            frameborder=\"0\"\n",
       "            allowfullscreen\n",
       "        ></iframe>\n",
       "        "
      ],
      "text/plain": [
       "<IPython.lib.display.IFrame at 0x10da62f10>"
      ]
     },
     "execution_count": 53,
     "metadata": {},
     "output_type": "execute_result"
    }
   ],
   "source": [
    "IFrame('map_parking.html', width=800, height=500)"
   ]
  },
  {
   "cell_type": "markdown",
   "metadata": {},
   "source": [
    "All in all, it is hard to tell whether there is a relationship between those two things. Although we can see that parking lot are clustered at downtown which is quite expensive compared to other district. This is quite true since CBD needs more parking lot and garage building. However, in other orange and yellow distric as shown in the map, there is no obvious pattern for the distribution of parking. Therefore, I conclude that housing price and parking do not have direct relation."
   ]
  },
  {
   "cell_type": "code",
   "execution_count": 54,
   "metadata": {
    "collapsed": true
   },
   "outputs": [],
   "source": [
    "db.close()"
   ]
  }
 ],
 "metadata": {
  "kernelspec": {
   "display_name": "Python 2",
   "language": "python",
   "name": "python2"
  },
  "language_info": {
   "codemirror_mode": {
    "name": "ipython",
    "version": 2
   },
   "file_extension": ".py",
   "mimetype": "text/x-python",
   "name": "python",
   "nbconvert_exporter": "python",
   "pygments_lexer": "ipython2",
   "version": "2.7.13"
  }
 },
 "nbformat": 4,
 "nbformat_minor": 2
}
